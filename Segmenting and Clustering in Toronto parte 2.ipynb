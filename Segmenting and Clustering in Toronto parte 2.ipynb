{
    "nbformat_minor": 1, 
    "cells": [
        {
            "source": "import numpy as np # data in a vectorized manner manipulation\nimport pandas as pd # data analsysis\nfrom pandas.io.json import json_normalize # tranform JSON file into a pandas dataframe\nimport json # JSON files manipulation\nimport requests # HTTP library\nfrom bs4 import BeautifulSoup # scraping library\n\nfrom sklearn.cluster import KMeans # clustering algorithm\n\npd.set_option('display.max_columns', None)\npd.set_option('display.max_rows', None)\n\n# Matplotlib and associated plotting modules\nimport matplotlib.cm as cm\nimport matplotlib.colors as colors\n\n# !conda install -c conda-forge folium=0.5.0 --yes\nimport folium # map rendering library\n\nprint('Libraries imported.')", 
            "cell_type": "code", 
            "metadata": {}, 
            "outputs": [
                {
                    "output_type": "stream", 
                    "name": "stdout", 
                    "text": "Libraries imported.\n"
                }
            ], 
            "execution_count": 1
        }, 
        {
            "source": "source = requests.get('https://en.wikipedia.org/wiki/List_of_postal_codes_of_Canada:_M').text\nsoup = BeautifulSoup(source, 'lxml')", 
            "cell_type": "code", 
            "metadata": {}, 
            "outputs": [], 
            "execution_count": 2
        }, 
        {
            "source": "class Scrapy:\n       \n        def parse_url(self, url):\n            response = requests.get(url)\n            soup = BeautifulSoup(response.text, 'lxml')\n            return [(self.parse_html_table(table))\\\n                    for table in soup.find_all('table', class_=\"wikitable sortable\")]  \n    \n        def parse_html_table(self, table):\n            n_columns = 0\n            n_rows=0\n            column_names = []\n            for row in table.find_all('tr'):\n                td_tags = row.find_all('td')\n                if len(td_tags) > 0:\n                    n_rows+=1\n                    if n_columns == 0:\n                        n_columns = len(td_tags)\n                        \n                th_tags = row.find_all('th') \n                if len(th_tags) > 0 and len(column_names) == 0:\n                    for th in th_tags:\n                        column_names.append(th.get_text())\n    \n            if len(column_names) > 0 and len(column_names) != n_columns:\n                raise Exception(\"Column titles do not match the number of columns\")\n    \n            columns = column_names if len(column_names) > 0 else range(0,n_columns)\n            df = pd.DataFrame(columns = columns,\n                              index= range(0,n_rows))\n            row_marker = 0\n            for row in table.find_all('tr'):\n                column_marker = 0\n                columns = row.find_all('td')\n                for column in columns:\n                    df.iat[row_marker,column_marker] = column.get_text()\n                    column_marker += 1\n                if len(columns) > 0:\n                    row_marker += 1\n                    \n            for col in df:\n                try:\n                    df[col] = df[col].astype(float)\n                except ValueError:\n                    pass\n            \n            return df", 
            "cell_type": "code", 
            "metadata": {}, 
            "outputs": [], 
            "execution_count": 3
        }, 
        {
            "source": "url = 'https://en.wikipedia.org/wiki/List_of_postal_codes_of_Canada:_M'\nhp = Scrapy()\ntable = hp.parse_url(url)[0] \ntable.head(10)", 
            "cell_type": "code", 
            "metadata": {}, 
            "outputs": [
                {
                    "output_type": "execute_result", 
                    "data": {
                        "text/plain": "  Postcode           Borough     Neighbourhood\\n\n0      M1A      Not assigned      Not assigned\\n\n1      M2A      Not assigned      Not assigned\\n\n2      M3A        North York         Parkwoods\\n\n3      M4A        North York  Victoria Village\\n\n4      M5A  Downtown Toronto      Harbourfront\\n\n5      M5A  Downtown Toronto       Regent Park\\n\n6      M6A        North York  Lawrence Heights\\n\n7      M6A        North York    Lawrence Manor\\n\n8      M7A      Queen's Park      Not assigned\\n\n9      M8A      Not assigned      Not assigned\\n", 
                        "text/html": "<div>\n<style scoped>\n    .dataframe tbody tr th:only-of-type {\n        vertical-align: middle;\n    }\n\n    .dataframe tbody tr th {\n        vertical-align: top;\n    }\n\n    .dataframe thead th {\n        text-align: right;\n    }\n</style>\n<table border=\"1\" class=\"dataframe\">\n  <thead>\n    <tr style=\"text-align: right;\">\n      <th></th>\n      <th>Postcode</th>\n      <th>Borough</th>\n      <th>Neighbourhood</th>\n    </tr>\n  </thead>\n  <tbody>\n    <tr>\n      <th>0</th>\n      <td>M1A</td>\n      <td>Not assigned</td>\n      <td>Not assigned\\n</td>\n    </tr>\n    <tr>\n      <th>1</th>\n      <td>M2A</td>\n      <td>Not assigned</td>\n      <td>Not assigned\\n</td>\n    </tr>\n    <tr>\n      <th>2</th>\n      <td>M3A</td>\n      <td>North York</td>\n      <td>Parkwoods\\n</td>\n    </tr>\n    <tr>\n      <th>3</th>\n      <td>M4A</td>\n      <td>North York</td>\n      <td>Victoria Village\\n</td>\n    </tr>\n    <tr>\n      <th>4</th>\n      <td>M5A</td>\n      <td>Downtown Toronto</td>\n      <td>Harbourfront\\n</td>\n    </tr>\n    <tr>\n      <th>5</th>\n      <td>M5A</td>\n      <td>Downtown Toronto</td>\n      <td>Regent Park\\n</td>\n    </tr>\n    <tr>\n      <th>6</th>\n      <td>M6A</td>\n      <td>North York</td>\n      <td>Lawrence Heights\\n</td>\n    </tr>\n    <tr>\n      <th>7</th>\n      <td>M6A</td>\n      <td>North York</td>\n      <td>Lawrence Manor\\n</td>\n    </tr>\n    <tr>\n      <th>8</th>\n      <td>M7A</td>\n      <td>Queen's Park</td>\n      <td>Not assigned\\n</td>\n    </tr>\n    <tr>\n      <th>9</th>\n      <td>M8A</td>\n      <td>Not assigned</td>\n      <td>Not assigned\\n</td>\n    </tr>\n  </tbody>\n</table>\n</div>"
                    }, 
                    "execution_count": 4, 
                    "metadata": {}
                }
            ], 
            "execution_count": 4
        }, 
        {
            "source": "table = table[table.Borough != 'Not assigned']\ntable.head(10)", 
            "cell_type": "code", 
            "metadata": {}, 
            "outputs": [
                {
                    "output_type": "execute_result", 
                    "data": {
                        "text/plain": "   Postcode           Borough     Neighbourhood\\n\n2       M3A        North York         Parkwoods\\n\n3       M4A        North York  Victoria Village\\n\n4       M5A  Downtown Toronto      Harbourfront\\n\n5       M5A  Downtown Toronto       Regent Park\\n\n6       M6A        North York  Lawrence Heights\\n\n7       M6A        North York    Lawrence Manor\\n\n8       M7A      Queen's Park      Not assigned\\n\n10      M9A         Etobicoke  Islington Avenue\\n\n11      M1B       Scarborough             Rouge\\n\n12      M1B       Scarborough           Malvern\\n", 
                        "text/html": "<div>\n<style scoped>\n    .dataframe tbody tr th:only-of-type {\n        vertical-align: middle;\n    }\n\n    .dataframe tbody tr th {\n        vertical-align: top;\n    }\n\n    .dataframe thead th {\n        text-align: right;\n    }\n</style>\n<table border=\"1\" class=\"dataframe\">\n  <thead>\n    <tr style=\"text-align: right;\">\n      <th></th>\n      <th>Postcode</th>\n      <th>Borough</th>\n      <th>Neighbourhood</th>\n    </tr>\n  </thead>\n  <tbody>\n    <tr>\n      <th>2</th>\n      <td>M3A</td>\n      <td>North York</td>\n      <td>Parkwoods\\n</td>\n    </tr>\n    <tr>\n      <th>3</th>\n      <td>M4A</td>\n      <td>North York</td>\n      <td>Victoria Village\\n</td>\n    </tr>\n    <tr>\n      <th>4</th>\n      <td>M5A</td>\n      <td>Downtown Toronto</td>\n      <td>Harbourfront\\n</td>\n    </tr>\n    <tr>\n      <th>5</th>\n      <td>M5A</td>\n      <td>Downtown Toronto</td>\n      <td>Regent Park\\n</td>\n    </tr>\n    <tr>\n      <th>6</th>\n      <td>M6A</td>\n      <td>North York</td>\n      <td>Lawrence Heights\\n</td>\n    </tr>\n    <tr>\n      <th>7</th>\n      <td>M6A</td>\n      <td>North York</td>\n      <td>Lawrence Manor\\n</td>\n    </tr>\n    <tr>\n      <th>8</th>\n      <td>M7A</td>\n      <td>Queen's Park</td>\n      <td>Not assigned\\n</td>\n    </tr>\n    <tr>\n      <th>10</th>\n      <td>M9A</td>\n      <td>Etobicoke</td>\n      <td>Islington Avenue\\n</td>\n    </tr>\n    <tr>\n      <th>11</th>\n      <td>M1B</td>\n      <td>Scarborough</td>\n      <td>Rouge\\n</td>\n    </tr>\n    <tr>\n      <th>12</th>\n      <td>M1B</td>\n      <td>Scarborough</td>\n      <td>Malvern\\n</td>\n    </tr>\n  </tbody>\n</table>\n</div>"
                    }, 
                    "execution_count": 5, 
                    "metadata": {}
                }
            ], 
            "execution_count": 5
        }, 
        {
            "source": "print(list(table))\ntable = table.replace('\\n',' ', regex=True)\ntable.head(10)", 
            "cell_type": "code", 
            "metadata": {}, 
            "outputs": [
                {
                    "output_type": "stream", 
                    "name": "stdout", 
                    "text": "['Postcode', 'Borough', 'Neighbourhood\\n']\n"
                }, 
                {
                    "output_type": "execute_result", 
                    "data": {
                        "text/plain": "   Postcode           Borough    Neighbourhood\\n\n2       M3A        North York         Parkwoods \n3       M4A        North York  Victoria Village \n4       M5A  Downtown Toronto      Harbourfront \n5       M5A  Downtown Toronto       Regent Park \n6       M6A        North York  Lawrence Heights \n7       M6A        North York    Lawrence Manor \n8       M7A      Queen's Park      Not assigned \n10      M9A         Etobicoke  Islington Avenue \n11      M1B       Scarborough             Rouge \n12      M1B       Scarborough           Malvern ", 
                        "text/html": "<div>\n<style scoped>\n    .dataframe tbody tr th:only-of-type {\n        vertical-align: middle;\n    }\n\n    .dataframe tbody tr th {\n        vertical-align: top;\n    }\n\n    .dataframe thead th {\n        text-align: right;\n    }\n</style>\n<table border=\"1\" class=\"dataframe\">\n  <thead>\n    <tr style=\"text-align: right;\">\n      <th></th>\n      <th>Postcode</th>\n      <th>Borough</th>\n      <th>Neighbourhood</th>\n    </tr>\n  </thead>\n  <tbody>\n    <tr>\n      <th>2</th>\n      <td>M3A</td>\n      <td>North York</td>\n      <td>Parkwoods</td>\n    </tr>\n    <tr>\n      <th>3</th>\n      <td>M4A</td>\n      <td>North York</td>\n      <td>Victoria Village</td>\n    </tr>\n    <tr>\n      <th>4</th>\n      <td>M5A</td>\n      <td>Downtown Toronto</td>\n      <td>Harbourfront</td>\n    </tr>\n    <tr>\n      <th>5</th>\n      <td>M5A</td>\n      <td>Downtown Toronto</td>\n      <td>Regent Park</td>\n    </tr>\n    <tr>\n      <th>6</th>\n      <td>M6A</td>\n      <td>North York</td>\n      <td>Lawrence Heights</td>\n    </tr>\n    <tr>\n      <th>7</th>\n      <td>M6A</td>\n      <td>North York</td>\n      <td>Lawrence Manor</td>\n    </tr>\n    <tr>\n      <th>8</th>\n      <td>M7A</td>\n      <td>Queen's Park</td>\n      <td>Not assigned</td>\n    </tr>\n    <tr>\n      <th>10</th>\n      <td>M9A</td>\n      <td>Etobicoke</td>\n      <td>Islington Avenue</td>\n    </tr>\n    <tr>\n      <th>11</th>\n      <td>M1B</td>\n      <td>Scarborough</td>\n      <td>Rouge</td>\n    </tr>\n    <tr>\n      <th>12</th>\n      <td>M1B</td>\n      <td>Scarborough</td>\n      <td>Malvern</td>\n    </tr>\n  </tbody>\n</table>\n</div>"
                    }, 
                    "execution_count": 6, 
                    "metadata": {}
                }
            ], 
            "execution_count": 6
        }, 
        {
            "source": "table = table[table['Neighbourhood\\n'] != 'Not assigned']\ntable.head(10)", 
            "cell_type": "code", 
            "metadata": {}, 
            "outputs": [
                {
                    "output_type": "execute_result", 
                    "data": {
                        "text/plain": "   Postcode           Borough    Neighbourhood\\n\n2       M3A        North York         Parkwoods \n3       M4A        North York  Victoria Village \n4       M5A  Downtown Toronto      Harbourfront \n5       M5A  Downtown Toronto       Regent Park \n6       M6A        North York  Lawrence Heights \n7       M6A        North York    Lawrence Manor \n8       M7A      Queen's Park      Not assigned \n10      M9A         Etobicoke  Islington Avenue \n11      M1B       Scarborough             Rouge \n12      M1B       Scarborough           Malvern ", 
                        "text/html": "<div>\n<style scoped>\n    .dataframe tbody tr th:only-of-type {\n        vertical-align: middle;\n    }\n\n    .dataframe tbody tr th {\n        vertical-align: top;\n    }\n\n    .dataframe thead th {\n        text-align: right;\n    }\n</style>\n<table border=\"1\" class=\"dataframe\">\n  <thead>\n    <tr style=\"text-align: right;\">\n      <th></th>\n      <th>Postcode</th>\n      <th>Borough</th>\n      <th>Neighbourhood</th>\n    </tr>\n  </thead>\n  <tbody>\n    <tr>\n      <th>2</th>\n      <td>M3A</td>\n      <td>North York</td>\n      <td>Parkwoods</td>\n    </tr>\n    <tr>\n      <th>3</th>\n      <td>M4A</td>\n      <td>North York</td>\n      <td>Victoria Village</td>\n    </tr>\n    <tr>\n      <th>4</th>\n      <td>M5A</td>\n      <td>Downtown Toronto</td>\n      <td>Harbourfront</td>\n    </tr>\n    <tr>\n      <th>5</th>\n      <td>M5A</td>\n      <td>Downtown Toronto</td>\n      <td>Regent Park</td>\n    </tr>\n    <tr>\n      <th>6</th>\n      <td>M6A</td>\n      <td>North York</td>\n      <td>Lawrence Heights</td>\n    </tr>\n    <tr>\n      <th>7</th>\n      <td>M6A</td>\n      <td>North York</td>\n      <td>Lawrence Manor</td>\n    </tr>\n    <tr>\n      <th>8</th>\n      <td>M7A</td>\n      <td>Queen's Park</td>\n      <td>Not assigned</td>\n    </tr>\n    <tr>\n      <th>10</th>\n      <td>M9A</td>\n      <td>Etobicoke</td>\n      <td>Islington Avenue</td>\n    </tr>\n    <tr>\n      <th>11</th>\n      <td>M1B</td>\n      <td>Scarborough</td>\n      <td>Rouge</td>\n    </tr>\n    <tr>\n      <th>12</th>\n      <td>M1B</td>\n      <td>Scarborough</td>\n      <td>Malvern</td>\n    </tr>\n  </tbody>\n</table>\n</div>"
                    }, 
                    "execution_count": 7, 
                    "metadata": {}
                }
            ], 
            "execution_count": 7
        }, 
        {
            "source": "df = table.groupby(['Postcode','Borough'])['Neighbourhood\\n'].apply(lambda x: \", \".join(x.astype(str))).reset_index()\ndf = df.sample(frac=1).reset_index(drop=True)\ndf.head(10)", 
            "cell_type": "code", 
            "metadata": {}, 
            "outputs": [
                {
                    "output_type": "execute_result", 
                    "data": {
                        "text/plain": "  Postcode           Borough  \\\n0      M5B  Downtown Toronto   \n1      M4S   Central Toronto   \n2      M9L        North York   \n3      M5K  Downtown Toronto   \n4      M1P       Scarborough   \n5      M6J      West Toronto   \n6      M6G  Downtown Toronto   \n7      M5G  Downtown Toronto   \n8      M7R       Mississauga   \n9      M4L      East Toronto   \n\n                                     Neighbourhood\\n  \n0                         Ryerson , Garden District   \n1                                        Davisville   \n2                                     Humber Summit   \n3         Design Exchange , Toronto Dominion Centre   \n4  Dorset Park , Scarborough Town Centre , Wexfor...  \n5                         Little Portugal , Trinity   \n6                                          Christie   \n7                                Central Bay Street   \n8             Canada Post Gateway Processing Centre   \n9                   The Beaches West , India Bazaar   ", 
                        "text/html": "<div>\n<style scoped>\n    .dataframe tbody tr th:only-of-type {\n        vertical-align: middle;\n    }\n\n    .dataframe tbody tr th {\n        vertical-align: top;\n    }\n\n    .dataframe thead th {\n        text-align: right;\n    }\n</style>\n<table border=\"1\" class=\"dataframe\">\n  <thead>\n    <tr style=\"text-align: right;\">\n      <th></th>\n      <th>Postcode</th>\n      <th>Borough</th>\n      <th>Neighbourhood</th>\n    </tr>\n  </thead>\n  <tbody>\n    <tr>\n      <th>0</th>\n      <td>M5B</td>\n      <td>Downtown Toronto</td>\n      <td>Ryerson , Garden District</td>\n    </tr>\n    <tr>\n      <th>1</th>\n      <td>M4S</td>\n      <td>Central Toronto</td>\n      <td>Davisville</td>\n    </tr>\n    <tr>\n      <th>2</th>\n      <td>M9L</td>\n      <td>North York</td>\n      <td>Humber Summit</td>\n    </tr>\n    <tr>\n      <th>3</th>\n      <td>M5K</td>\n      <td>Downtown Toronto</td>\n      <td>Design Exchange , Toronto Dominion Centre</td>\n    </tr>\n    <tr>\n      <th>4</th>\n      <td>M1P</td>\n      <td>Scarborough</td>\n      <td>Dorset Park , Scarborough Town Centre , Wexfor...</td>\n    </tr>\n    <tr>\n      <th>5</th>\n      <td>M6J</td>\n      <td>West Toronto</td>\n      <td>Little Portugal , Trinity</td>\n    </tr>\n    <tr>\n      <th>6</th>\n      <td>M6G</td>\n      <td>Downtown Toronto</td>\n      <td>Christie</td>\n    </tr>\n    <tr>\n      <th>7</th>\n      <td>M5G</td>\n      <td>Downtown Toronto</td>\n      <td>Central Bay Street</td>\n    </tr>\n    <tr>\n      <th>8</th>\n      <td>M7R</td>\n      <td>Mississauga</td>\n      <td>Canada Post Gateway Processing Centre</td>\n    </tr>\n    <tr>\n      <th>9</th>\n      <td>M4L</td>\n      <td>East Toronto</td>\n      <td>The Beaches West , India Bazaar</td>\n    </tr>\n  </tbody>\n</table>\n</div>"
                    }, 
                    "execution_count": 8, 
                    "metadata": {}
                }
            ], 
            "execution_count": 8
        }, 
        {
            "source": "print(df.shape)", 
            "cell_type": "code", 
            "metadata": {}, 
            "outputs": [
                {
                    "output_type": "stream", 
                    "name": "stdout", 
                    "text": "(103, 3)\n"
                }
            ], 
            "execution_count": 9
        }, 
        {
            "source": "url2=\"http://cocl.us/Geospatial_data\"\ngeo_data=pd.read_csv(url2)\ngeo_data.head(10)", 
            "cell_type": "code", 
            "metadata": {}, 
            "outputs": [
                {
                    "output_type": "execute_result", 
                    "data": {
                        "text/plain": "  Postal Code   Latitude  Longitude\n0         M1B  43.806686 -79.194353\n1         M1C  43.784535 -79.160497\n2         M1E  43.763573 -79.188711\n3         M1G  43.770992 -79.216917\n4         M1H  43.773136 -79.239476\n5         M1J  43.744734 -79.239476\n6         M1K  43.727929 -79.262029\n7         M1L  43.711112 -79.284577\n8         M1M  43.716316 -79.239476\n9         M1N  43.692657 -79.264848", 
                        "text/html": "<div>\n<style scoped>\n    .dataframe tbody tr th:only-of-type {\n        vertical-align: middle;\n    }\n\n    .dataframe tbody tr th {\n        vertical-align: top;\n    }\n\n    .dataframe thead th {\n        text-align: right;\n    }\n</style>\n<table border=\"1\" class=\"dataframe\">\n  <thead>\n    <tr style=\"text-align: right;\">\n      <th></th>\n      <th>Postal Code</th>\n      <th>Latitude</th>\n      <th>Longitude</th>\n    </tr>\n  </thead>\n  <tbody>\n    <tr>\n      <th>0</th>\n      <td>M1B</td>\n      <td>43.806686</td>\n      <td>-79.194353</td>\n    </tr>\n    <tr>\n      <th>1</th>\n      <td>M1C</td>\n      <td>43.784535</td>\n      <td>-79.160497</td>\n    </tr>\n    <tr>\n      <th>2</th>\n      <td>M1E</td>\n      <td>43.763573</td>\n      <td>-79.188711</td>\n    </tr>\n    <tr>\n      <th>3</th>\n      <td>M1G</td>\n      <td>43.770992</td>\n      <td>-79.216917</td>\n    </tr>\n    <tr>\n      <th>4</th>\n      <td>M1H</td>\n      <td>43.773136</td>\n      <td>-79.239476</td>\n    </tr>\n    <tr>\n      <th>5</th>\n      <td>M1J</td>\n      <td>43.744734</td>\n      <td>-79.239476</td>\n    </tr>\n    <tr>\n      <th>6</th>\n      <td>M1K</td>\n      <td>43.727929</td>\n      <td>-79.262029</td>\n    </tr>\n    <tr>\n      <th>7</th>\n      <td>M1L</td>\n      <td>43.711112</td>\n      <td>-79.284577</td>\n    </tr>\n    <tr>\n      <th>8</th>\n      <td>M1M</td>\n      <td>43.716316</td>\n      <td>-79.239476</td>\n    </tr>\n    <tr>\n      <th>9</th>\n      <td>M1N</td>\n      <td>43.692657</td>\n      <td>-79.264848</td>\n    </tr>\n  </tbody>\n</table>\n</div>"
                    }, 
                    "execution_count": 10, 
                    "metadata": {}
                }
            ], 
            "execution_count": 10
        }, 
        {
            "source": "print(list(df))\nprint(list(geo_data))\n\nfull_table = df.set_index('Postcode').join(geo_data.set_index('Postal Code'))\nfull_table = full_table.sample(frac=1).reset_index(drop=True)\nfull_table.head(20)", 
            "cell_type": "code", 
            "metadata": {}, 
            "outputs": [
                {
                    "output_type": "stream", 
                    "name": "stdout", 
                    "text": "['Postcode', 'Borough', 'Neighbourhood\\n']\n['Postal Code', 'Latitude', 'Longitude']\n"
                }, 
                {
                    "output_type": "execute_result", 
                    "data": {
                        "text/plain": "             Borough                                 Neighbourhood\\n  \\\n0         North York                            Downsview Northwest    \n1   Downtown Toronto                                       Christie    \n2         North York                               Willowdale South    \n3         North York     Maple Leaf Park , North Park , Upwood Park    \n4   Downtown Toronto                Commerce Court , Victoria Hotel    \n5       West Toronto                      Little Portugal , Trinity    \n6          Etobicoke                               Islington Avenue    \n7       East Toronto                  The Danforth West , Riverdale    \n8   Downtown Toronto                                    Berczy Park    \n9    Central Toronto                                  Lawrence Park    \n10  Downtown Toronto                   Cabbagetown , St. James Town    \n11        North York               Northwood Park , York University    \n12        North York                       Newtonbrook , Willowdale    \n13       Scarborough  East Birchmount Park , Ionview , Kennedy Park    \n14        North York                                Don Mills North    \n15         Etobicoke                        Alderwood , Long Branch    \n16       Scarborough      Clarks Corners , Sullivan , Tam O'Shanter    \n17         Etobicoke                                      Westmount    \n18   Central Toronto           Forest Hill North , Forest Hill West    \n19        North York                                      Parkwoods    \n\n     Latitude  Longitude  \n0   43.761631 -79.520999  \n1   43.669542 -79.422564  \n2   43.770120 -79.408493  \n3   43.713756 -79.490074  \n4   43.648198 -79.379817  \n5   43.647927 -79.419750  \n6   43.667856 -79.532242  \n7   43.679557 -79.352188  \n8   43.644771 -79.373306  \n9   43.728020 -79.388790  \n10  43.667967 -79.367675  \n11  43.767980 -79.487262  \n12  43.789053 -79.408493  \n13  43.727929 -79.262029  \n14  43.745906 -79.352188  \n15  43.602414 -79.543484  \n16  43.781638 -79.304302  \n17  43.696319 -79.532242  \n18  43.696948 -79.411307  \n19  43.753259 -79.329656  ", 
                        "text/html": "<div>\n<style scoped>\n    .dataframe tbody tr th:only-of-type {\n        vertical-align: middle;\n    }\n\n    .dataframe tbody tr th {\n        vertical-align: top;\n    }\n\n    .dataframe thead th {\n        text-align: right;\n    }\n</style>\n<table border=\"1\" class=\"dataframe\">\n  <thead>\n    <tr style=\"text-align: right;\">\n      <th></th>\n      <th>Borough</th>\n      <th>Neighbourhood</th>\n      <th>Latitude</th>\n      <th>Longitude</th>\n    </tr>\n  </thead>\n  <tbody>\n    <tr>\n      <th>0</th>\n      <td>North York</td>\n      <td>Downsview Northwest</td>\n      <td>43.761631</td>\n      <td>-79.520999</td>\n    </tr>\n    <tr>\n      <th>1</th>\n      <td>Downtown Toronto</td>\n      <td>Christie</td>\n      <td>43.669542</td>\n      <td>-79.422564</td>\n    </tr>\n    <tr>\n      <th>2</th>\n      <td>North York</td>\n      <td>Willowdale South</td>\n      <td>43.770120</td>\n      <td>-79.408493</td>\n    </tr>\n    <tr>\n      <th>3</th>\n      <td>North York</td>\n      <td>Maple Leaf Park , North Park , Upwood Park</td>\n      <td>43.713756</td>\n      <td>-79.490074</td>\n    </tr>\n    <tr>\n      <th>4</th>\n      <td>Downtown Toronto</td>\n      <td>Commerce Court , Victoria Hotel</td>\n      <td>43.648198</td>\n      <td>-79.379817</td>\n    </tr>\n    <tr>\n      <th>5</th>\n      <td>West Toronto</td>\n      <td>Little Portugal , Trinity</td>\n      <td>43.647927</td>\n      <td>-79.419750</td>\n    </tr>\n    <tr>\n      <th>6</th>\n      <td>Etobicoke</td>\n      <td>Islington Avenue</td>\n      <td>43.667856</td>\n      <td>-79.532242</td>\n    </tr>\n    <tr>\n      <th>7</th>\n      <td>East Toronto</td>\n      <td>The Danforth West , Riverdale</td>\n      <td>43.679557</td>\n      <td>-79.352188</td>\n    </tr>\n    <tr>\n      <th>8</th>\n      <td>Downtown Toronto</td>\n      <td>Berczy Park</td>\n      <td>43.644771</td>\n      <td>-79.373306</td>\n    </tr>\n    <tr>\n      <th>9</th>\n      <td>Central Toronto</td>\n      <td>Lawrence Park</td>\n      <td>43.728020</td>\n      <td>-79.388790</td>\n    </tr>\n    <tr>\n      <th>10</th>\n      <td>Downtown Toronto</td>\n      <td>Cabbagetown , St. James Town</td>\n      <td>43.667967</td>\n      <td>-79.367675</td>\n    </tr>\n    <tr>\n      <th>11</th>\n      <td>North York</td>\n      <td>Northwood Park , York University</td>\n      <td>43.767980</td>\n      <td>-79.487262</td>\n    </tr>\n    <tr>\n      <th>12</th>\n      <td>North York</td>\n      <td>Newtonbrook , Willowdale</td>\n      <td>43.789053</td>\n      <td>-79.408493</td>\n    </tr>\n    <tr>\n      <th>13</th>\n      <td>Scarborough</td>\n      <td>East Birchmount Park , Ionview , Kennedy Park</td>\n      <td>43.727929</td>\n      <td>-79.262029</td>\n    </tr>\n    <tr>\n      <th>14</th>\n      <td>North York</td>\n      <td>Don Mills North</td>\n      <td>43.745906</td>\n      <td>-79.352188</td>\n    </tr>\n    <tr>\n      <th>15</th>\n      <td>Etobicoke</td>\n      <td>Alderwood , Long Branch</td>\n      <td>43.602414</td>\n      <td>-79.543484</td>\n    </tr>\n    <tr>\n      <th>16</th>\n      <td>Scarborough</td>\n      <td>Clarks Corners , Sullivan , Tam O'Shanter</td>\n      <td>43.781638</td>\n      <td>-79.304302</td>\n    </tr>\n    <tr>\n      <th>17</th>\n      <td>Etobicoke</td>\n      <td>Westmount</td>\n      <td>43.696319</td>\n      <td>-79.532242</td>\n    </tr>\n    <tr>\n      <th>18</th>\n      <td>Central Toronto</td>\n      <td>Forest Hill North , Forest Hill West</td>\n      <td>43.696948</td>\n      <td>-79.411307</td>\n    </tr>\n    <tr>\n      <th>19</th>\n      <td>North York</td>\n      <td>Parkwoods</td>\n      <td>43.753259</td>\n      <td>-79.329656</td>\n    </tr>\n  </tbody>\n</table>\n</div>"
                    }, 
                    "execution_count": 11, 
                    "metadata": {}
                }
            ], 
            "execution_count": 11
        }, 
        {
            "source": "", 
            "cell_type": "code", 
            "metadata": {}, 
            "outputs": [], 
            "execution_count": null
        }
    ], 
    "metadata": {
        "kernelspec": {
            "display_name": "Python 3.5", 
            "name": "python3", 
            "language": "python"
        }, 
        "language_info": {
            "mimetype": "text/x-python", 
            "nbconvert_exporter": "python", 
            "version": "3.5.5", 
            "name": "python", 
            "pygments_lexer": "ipython3", 
            "file_extension": ".py", 
            "codemirror_mode": {
                "version": 3, 
                "name": "ipython"
            }
        }
    }, 
    "nbformat": 4
}